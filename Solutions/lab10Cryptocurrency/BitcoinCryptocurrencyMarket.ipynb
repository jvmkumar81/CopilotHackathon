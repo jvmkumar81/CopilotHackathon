{
 "cells": [
  {
   "cell_type": "code",
   "execution_count": null,
   "metadata": {},
   "outputs": [],
   "source": [
    "import glob\n",
    "import pandas as pd\n",
    "\n",
    "# Get a list of all CSV files in the cryto directory\n",
    "csv_files = glob.glob('cryto/*.csv')\n",
    "\n",
    "# Create a dictionary of dataframes\n",
    "dataframes = {}\n",
    "\n",
    "for file in csv_files:\n",
    "    # The key is the file name without the extension and path\n",
    "    key = file.split('/')[-1].split('.')[0]\n",
    "    dataframes[key] = pd.read_csv(file)\n",
    "    \n",
    "for coin, df in dataframes.items():\n",
    "    # Get the last market cap value\n",
    "    last_market_cap = df['Marketcap'].iloc[-1]\n",
    "    print(f\"The market capitalization of {coin} is {last_market_cap}\")"
   ]
  },
  {
   "cell_type": "code",
   "execution_count": null,
   "metadata": {},
   "outputs": [],
   "source": [
    "import pandas as pd\n",
    "import matplotlib.pyplot as plt\n",
    "import os\n",
    "\n",
    "# List of all CSV files in the cryto directory\n",
    "files = os.listdir('cryto')\n",
    "\n",
    "# Create an empty DataFrame to store all data\n",
    "all_data = pd.DataFrame()\n",
    "\n",
    "# Loop through each file\n",
    "for file in files:\n",
    "    # Read the CSV file\n",
    "    data = pd.read_csv(f'cryto/{file}')\n",
    "    \n",
    "    # Convert the 'Date' column to datetime\n",
    "    data['Date'] = pd.to_datetime(data['Date'])\n",
    "    \n",
    "    # Set the 'Date' column as the index\n",
    "    data.set_index('Date', inplace=True)\n",
    "    \n",
    "    # Add the 'Marketcap' column to the all_data DataFrame with the coin's name as the column name\n",
    "    all_data[file.split('_')[1].split('.')[0]] = data['Marketcap']\n",
    "\n",
    "# Plot the data\n",
    "all_data.plot(figsize=(10, 5))\n",
    "plt.title('Market Capitalizations Over Time')\n",
    "plt.ylabel('Market Capitalization')\n",
    "plt.show()\n",
    "\n",
    "\n"
   ]
  },
  {
   "cell_type": "code",
   "execution_count": null,
   "metadata": {},
   "outputs": [],
   "source": [
    "def calculate_market_cap(price, total_supply):\n",
    "    return price * total_supply\n",
    "price = 0.0793008758477\n",
    "total_supply = 28310972.1604924\n",
    "market_cap = calculate_market_cap(price, total_supply)\n",
    "print(market_cap)"
   ]
  },
  {
   "cell_type": "code",
   "execution_count": null,
   "metadata": {},
   "outputs": [],
   "source": [
    "\n",
    "import pandas as pd\n",
    "from sklearn.model_selection import train_test_split \n",
    "from sklearn.linear_model import LinearRegression\n",
    "from sklearn import metrics\n",
    "\n",
    "# Load the dataset\n",
    "df = pd.read_csv('cryto/coin_Polkadot.csv')\n",
    "\n",
    "# Select the columns to use as features and target\n",
    "features = df[['High', 'Low', 'Open', 'Volume']]\n",
    "target = df['Close']\n",
    "\n",
    "# Split the dataset into training set and test set\n",
    "features_train, features_test, target_train, target_test = train_test_split(features, target, test_size=0.2, random_state=0)\n",
    "\n",
    "# Create a Linear Regression model\n",
    "model = LinearRegression()  \n",
    "\n",
    "# Train the model\n",
    "model.fit(features_train, target_train)\n",
    "\n",
    "# Use the model to make predictions\n",
    "predictions = model.predict(features_test)\n",
    "\n",
    "# Print the predictions\n",
    "print(predictions)\n",
    "\n"
   ]
  },
  {
   "cell_type": "code",
   "execution_count": null,
   "metadata": {},
   "outputs": [],
   "source": [
    "import pandas as pd\n",
    "import os\n",
    "\n",
    "# Get all CSV files in the 'crypto' directory\n",
    "files = [f for f in os.listdir('cryto') if f.endswith('.csv')]\n",
    "\n",
    "for file in files:\n",
    "    # Read the CSV file\n",
    "    df = pd.read_csv(os.path.join('cryto', file))\n",
    "    \n",
    "    # Calculate the volatility\n",
    "    df['Volatility'] = df['High'] - df['Low']\n",
    "    \n",
    "    # Print the currency name and its maximum volatility\n",
    "    print(f\"Currency: {df['Name'][0]}, Max Volatility: {df['Volatility'].max()}\")"
   ]
  },
  {
   "cell_type": "code",
   "execution_count": null,
   "metadata": {},
   "outputs": [],
   "source": [
    "import pandas as pd\n",
    "\n",
    "# Read the CSV file\n",
    "df = pd.read_csv('cryto/coin_USDCoin.csv', header=None)\n",
    "\n",
    "# Set column names\n",
    "df.columns = ['SNo', 'Name', 'Symbol', 'Date', 'High', 'Low', 'Open', 'Close', 'Volume', 'Marketcap']\n",
    "\n",
    "# Convert 'Close' column to numeric values, coerce errors to NaN\n",
    "df['Close'] = pd.to_numeric(df['Close'], errors='coerce')\n",
    "\n",
    "# Drop rows with NaN 'Close' values\n",
    "df = df.dropna(subset=['Close'])\n",
    "\n",
    "# Group by currency and calculate standard deviation of 'Close' prices\n",
    "stdevs = df.groupby('Name')['Close'].std()\n",
    "\n",
    "# Sort currencies by stability\n",
    "stable_currencies = stdevs.sort_values()\n",
    "\n",
    "# Print the most stable currencies\n",
    "print(stable_currencies.head())"
   ]
  },
  {
   "cell_type": "code",
   "execution_count": null,
   "metadata": {},
   "outputs": [],
   "source": [
    "import pandas as pd\n",
    "\n",
    "# Read the CSV files\n",
    "usd_coin = pd.read_csv('cryto/coin_USDCoin.csv')\n",
    "tether = pd.read_csv('cryto/coin_Tether.csv')\n",
    "bitcoin = pd.read_csv('cryto/coin_Bitcoin.csv')\n",
    "\n",
    "# Extract the closing prices\n",
    "usd_coin_close = usd_coin['Close']\n",
    "tether_close = tether['Close']\n",
    "bitcoin_close = bitcoin['Close']\n",
    "\n",
    "# Create a DataFrame with the closing prices\n",
    "df = pd.DataFrame({\n",
    "    'USD Coin': usd_coin_close,\n",
    "    'Tether': tether_close,\n",
    "    'Bitcoin': bitcoin_close\n",
    "})\n",
    "\n",
    "# Calculate the correlation\n",
    "correlation = df.corr()\n",
    "\n",
    "print(correlation)"
   ]
  },
  {
   "cell_type": "code",
   "execution_count": 5,
   "metadata": {},
   "outputs": [
    {
     "name": "stdout",
     "output_type": "stream",
     "text": [
      "Looking in links: c:\\Users\\MANJUL~2\\AppData\\Local\\Temp\\tmp2_nqhq4g\n",
      "Processing c:\\users\\manjul~2\\appdata\\local\\temp\\tmp2_nqhq4g\\pip-24.0-py3-none-any.whl\n",
      "Installing collected packages: pip\n",
      "Successfully installed pip-24.0\n"
     ]
    }
   ],
   "source": [
    "import sys\n",
    "!{sys.executable} -m ensurepip --upgrade"
   ]
  },
  {
   "cell_type": "code",
   "execution_count": 6,
   "metadata": {},
   "outputs": [
    {
     "name": "stdout",
     "output_type": "stream",
     "text": [
      "Collecting statsmodels\n",
      "  Downloading statsmodels-0.14.1-cp312-cp312-win_amd64.whl.metadata (9.8 kB)\n",
      "Requirement already satisfied: numpy<2,>=1.18 in c:\\users\\manjulachintharla\\appdata\\local\\programs\\python\\python312\\lib\\site-packages (from statsmodels) (1.26.3)\n",
      "Requirement already satisfied: scipy!=1.9.2,>=1.4 in c:\\users\\manjulachintharla\\appdata\\local\\programs\\python\\python312\\lib\\site-packages (from statsmodels) (1.11.4)\n",
      "Requirement already satisfied: pandas!=2.1.0,>=1.0 in c:\\users\\manjulachintharla\\appdata\\local\\programs\\python\\python312\\lib\\site-packages (from statsmodels) (2.1.4)\n",
      "Collecting patsy>=0.5.4 (from statsmodels)\n",
      "  Downloading patsy-0.5.6-py2.py3-none-any.whl.metadata (3.5 kB)\n",
      "Requirement already satisfied: packaging>=21.3 in c:\\users\\manjulachintharla\\appdata\\roaming\\python\\python312\\site-packages (from statsmodels) (23.2)\n",
      "Requirement already satisfied: python-dateutil>=2.8.2 in c:\\users\\manjulachintharla\\appdata\\roaming\\python\\python312\\site-packages (from pandas!=2.1.0,>=1.0->statsmodels) (2.8.2)\n",
      "Requirement already satisfied: pytz>=2020.1 in c:\\users\\manjulachintharla\\appdata\\local\\programs\\python\\python312\\lib\\site-packages (from pandas!=2.1.0,>=1.0->statsmodels) (2023.3.post1)\n",
      "Requirement already satisfied: tzdata>=2022.1 in c:\\users\\manjulachintharla\\appdata\\local\\programs\\python\\python312\\lib\\site-packages (from pandas!=2.1.0,>=1.0->statsmodels) (2023.4)\n",
      "Requirement already satisfied: six in c:\\users\\manjulachintharla\\appdata\\roaming\\python\\python312\\site-packages (from patsy>=0.5.4->statsmodels) (1.16.0)\n",
      "Downloading statsmodels-0.14.1-cp312-cp312-win_amd64.whl (9.8 MB)\n",
      "   ---------------------------------------- 0.0/9.8 MB ? eta -:--:--\n",
      "    --------------------------------------- 0.1/9.8 MB 7.5 MB/s eta 0:00:02\n",
      "   -- ------------------------------------- 0.6/9.8 MB 7.5 MB/s eta 0:00:02\n",
      "   --- ------------------------------------ 1.0/9.8 MB 6.9 MB/s eta 0:00:02\n",
      "   ------ --------------------------------- 1.5/9.8 MB 8.2 MB/s eta 0:00:02\n",
      "   ------- -------------------------------- 1.9/9.8 MB 8.1 MB/s eta 0:00:01\n",
      "   --------- ------------------------------ 2.2/9.8 MB 8.4 MB/s eta 0:00:01\n",
      "   ---------- ----------------------------- 2.5/9.8 MB 8.1 MB/s eta 0:00:01\n",
      "   ----------- ---------------------------- 2.9/9.8 MB 8.1 MB/s eta 0:00:01\n",
      "   -------------- ------------------------- 3.6/9.8 MB 8.5 MB/s eta 0:00:01\n",
      "   --------------- ------------------------ 3.9/9.8 MB 8.3 MB/s eta 0:00:01\n",
      "   ------------------ --------------------- 4.4/9.8 MB 8.4 MB/s eta 0:00:01\n",
      "   -------------------- ------------------- 4.9/9.8 MB 8.5 MB/s eta 0:00:01\n",
      "   ---------------------- ----------------- 5.4/9.8 MB 8.9 MB/s eta 0:00:01\n",
      "   ------------------------ --------------- 5.9/9.8 MB 8.8 MB/s eta 0:00:01\n",
      "   ------------------------- -------------- 6.3/9.8 MB 8.8 MB/s eta 0:00:01\n",
      "   --------------------------- ------------ 6.8/9.8 MB 8.7 MB/s eta 0:00:01\n",
      "   ----------------------------- ---------- 7.3/9.8 MB 9.0 MB/s eta 0:00:01\n",
      "   -------------------------------- ------- 7.9/9.8 MB 9.1 MB/s eta 0:00:01\n",
      "   --------------------------------- ------ 8.3/9.8 MB 9.0 MB/s eta 0:00:01\n",
      "   ----------------------------------- ---- 8.8/9.8 MB 9.1 MB/s eta 0:00:01\n",
      "   ------------------------------------- -- 9.3/9.8 MB 9.3 MB/s eta 0:00:01\n",
      "   ---------------------------------------  9.8/9.8 MB 9.3 MB/s eta 0:00:01\n",
      "   ---------------------------------------  9.8/9.8 MB 9.2 MB/s eta 0:00:01\n",
      "   ---------------------------------------- 9.8/9.8 MB 8.9 MB/s eta 0:00:00\n",
      "Downloading patsy-0.5.6-py2.py3-none-any.whl (233 kB)\n",
      "   ---------------------------------------- 0.0/233.9 kB ? eta -:--:--\n",
      "   --------------------------------------- 233.9/233.9 kB 14.0 MB/s eta 0:00:00\n",
      "Installing collected packages: patsy, statsmodels\n",
      "Successfully installed patsy-0.5.6 statsmodels-0.14.1\n",
      "Note: you may need to restart the kernel to use updated packages.\n"
     ]
    }
   ],
   "source": [
    "%pip install statsmodels"
   ]
  },
  {
   "cell_type": "code",
   "execution_count": 7,
   "metadata": {},
   "outputs": [
    {
     "data": {
      "image/png": "[encoded data removed]",
      "text/plain": [
       "<Figure size 640x480 with 1 Axes>"
      ]
     },
     "metadata": {},
     "output_type": "display_data"
    }
   ],
   "source": [
    "\n",
    "import pandas as pd\n",
    "import matplotlib.pyplot as plt\n",
    "from statsmodels.tsa.seasonal import seasonal_decompose\n",
    "\n",
    "# Load the data\n",
    "df = pd.read_csv('cryto/coin_Bitcoin.csv')\n",
    "\n",
    "# Convert the 'Date' column to datetime format\n",
    "df['Date'] = pd.to_datetime(df['Date'])\n",
    "\n",
    "# Set 'Date' as the index\n",
    "df.set_index('Date', inplace=True)\n",
    "\n",
    "# Use 'Close' price for analysis\n",
    "df_close = df['Close']\n",
    "\n",
    "# Decompose the time series\n",
    "result = seasonal_decompose(df_close, model='multiplicative')\n",
    "\n",
    "# Plot the seasonal component\n",
    "result.seasonal.plot()\n",
    "plt.title('Seasonal Component of Bitcoin Closing Prices')\n",
    "plt.show()"
   ]
  }
 ],
 "metadata": {
  "kernelspec": {
   "display_name": "Python 3",
   "language": "python",
   "name": "python3"
  },
  "language_info": {
   "codemirror_mode": {
    "name": "ipython",
    "version": 3
   },
   "file_extension": ".py",
   "mimetype": "text/x-python",
   "name": "python",
   "nbconvert_exporter": "python",
   "pygments_lexer": "ipython3",
   "version": "3.12.2"
  }
 },
 "nbformat": 4,
 "nbformat_minor": 2
}
